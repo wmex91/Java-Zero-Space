{
  "nbformat": 4,
  "nbformat_minor": 0,
  "metadata": {
    "colab": {
      "name": "causal_net.ipynb",
      "provenance": [],
      "collapsed_sections": [],
      "mount_file_id": "1ttKTicFZiOkWLE0ijLhWxAEMsnRce2HN",
      "authorship_tag": "ABX9TyMWCkXF0hioEdvFTkRJ5+K0",
      "include_colab_link": true
    },
    "kernelspec": {
      "name": "python3",
      "display_name": "Python 3"
    },
    "language_info": {
      "name": "python"
    }
  },
  "cells": [
    {
      "cell_type": "markdown",
      "metadata": {
        "id": "view-in-github",
        "colab_type": "text"
      },
      "source": [
        "<a href=\"https://colab.research.google.com/github/wmex91/Java-Zero-Space/blob/master/causal_net.ipynb\" target=\"_parent\"><img src=\"https://colab.research.google.com/assets/colab-badge.svg\" alt=\"Open In Colab\"/></a>"
      ]
    },
    {
      "cell_type": "markdown",
      "source": [
        "# Manufacturing Causal-Net \n",
        "\n",
        "The target of the notebook is to learn *causal relations* in a dataset generated from a manufacturing simulator and, secondly, apply some *do-calculus operation* to observe effects of potential intervetions.\n",
        "\n",
        "The simulator has been built using *Simpy*. Furhter information about Simpy in the following link: https://simpy.readthedocs.io/en/latest/index.html\n",
        "\n",
        "The tools used are: \n",
        "- Pandas for data import and manipulation\n",
        "- CausalNex for causal learning\n",
        "\n",
        "In particular, \"*CausalNex is a Python library that uses Bayesian Networks to combine machine learning and domain expertise for causal reasoning*\". \n",
        "\n",
        "The relative documentation is available here: https://causalnex.readthedocs.io/en/latest/index.html"
      ],
      "metadata": {
        "id": "TZKr5-cJ92NL"
      }
    },
    {
      "cell_type": "markdown",
      "source": [
        "## Preparing the workspace\n",
        "### Installing the necessary tools\n",
        "Pandas is by default integrated in the Google Colab environment. \n",
        "CausalNex, instead, is not, so is necessary to install it with the following command.\n",
        "\n"
      ],
      "metadata": {
        "id": "-AtSHRXxKcwC"
      }
    },
    {
      "cell_type": "code",
      "source": [
        "# Installing causalnex\n",
        "!pip install causalnex"
      ],
      "metadata": {
        "id": "riVKKb7rVSjZ"
      },
      "execution_count": null,
      "outputs": []
    },
    {
      "cell_type": "markdown",
      "source": [
        "## Importing Google Drive \n",
        "After the installation, drive library is imported in order to easily access to the Google Drive folder where the data has been exported from the previous simulation.\n",
        "\n",
        "### Importing necessary libraries\n",
        "After the Google Drive import, all the other necessary lirbaries are imported. The necessary libraries are: \n",
        "- os, time, datetime: for file handling operations \n",
        "- pandas: for data import, cleaning and input for CausalNex \n",
        "- causalnex.structure.notears: for network generation from pandas data\n",
        "- networkx: for resulting network plotting"
      ],
      "metadata": {
        "id": "SulWm8sBKwKA"
      }
    },
    {
      "cell_type": "code",
      "source": [
        "# Importing GDrive\n",
        "from google.colab import drive\n",
        "drive.mount('/content/drive')"
      ],
      "metadata": {
        "id": "LA8BN0FVUtVM",
        "colab": {
          "base_uri": "https://localhost:8080/"
        },
        "outputId": "c28f891b-b793-4698-d700-1a1442a773e9"
      },
      "execution_count": null,
      "outputs": [
        {
          "output_type": "stream",
          "name": "stdout",
          "text": [
            "Drive already mounted at /content/drive; to attempt to forcibly remount, call drive.mount(\"/content/drive\", force_remount=True).\n"
          ]
        }
      ]
    },
    {
      "cell_type": "code",
      "source": [
        "# Importing libraries\n",
        "import os\n",
        "import time\n",
        "import datetime\n",
        "import networkx\n",
        "import pandas\n",
        "from causalnex.structure.notears import from_pandas"
      ],
      "metadata": {
        "id": "v27BQ35ognvn"
      },
      "execution_count": null,
      "outputs": []
    },
    {
      "cell_type": "markdown",
      "source": [
        "## Preparing the data set\n",
        "The dataset generated from the simulation is exported as within a folder. \n",
        "\n",
        "The folder name is \"yyyy.mm.dd-hh.mm-log\", reporting the moment in time where the simulation started. The folder is placed inside of the Google Colab project folder.\n",
        "\n",
        "The file containing the data is called \"merged_logs.csv\". It is imported as a Pandas Dataframe with the method \"read_csv\".\n",
        "\n",
        "After the import, the head of the dataset and other dataset features are displayed.\n",
        "\n",
        "---\n",
        "\n",
        "The dataset used for the published experiment is \"2022.03.14-11.54-log\"."
      ],
      "metadata": {
        "id": "e7AnRBdQMwxX"
      }
    },
    {
      "cell_type": "code",
      "source": [
        "# Setting the csv path \n",
        "CSV_PATH = '/content/drive/MyDrive/Colab Notebooks/PhD_Notebooks/'\\\n",
        "'Colab-Manufacturing-Model-Learning/Causal-Manufacturing-Learning-v1/dataset/' \\\n",
        "'2022.03.14-11.54-log' \n",
        "\n",
        "CSV_FILE_NAME = '/merged_logs.csv'\n",
        "CSV_FILE_PATH = CSV_PATH + CSV_FILE_NAME\n",
        "\n",
        "LIGHT_CSV_FILE_NAME = '/light-logs.csv'\n",
        "LIGHT_CSV_FILE_PATH = CSV_PATH + LIGHT_CSV_FILE_NAME\n"
      ],
      "metadata": {
        "id": "2T8KD3q2_ORk"
      },
      "execution_count": null,
      "outputs": []
    },
    {
      "cell_type": "code",
      "execution_count": null,
      "metadata": {
        "id": "pS69MJvzGgEI",
        "colab": {
          "base_uri": "https://localhost:8080/"
        },
        "outputId": "f58b7f25-d23d-4f00-976d-c95ff614cfbb"
      },
      "outputs": [
        {
          "output_type": "stream",
          "name": "stdout",
          "text": [
            "Run  dataset\n",
            "\n",
            "\n",
            "   step  input Machine A  time process Machine A  output Machine A  \\\n",
            "0   0.0              200                       0                 0   \n",
            "1   0.1              200                       0                 0   \n",
            "2   1.0              200                       0                 0   \n",
            "3   1.1              200                       0                 0   \n",
            "4   1.5              199                       0                 0   \n",
            "5   1.6              199                     261                 0   \n",
            "6   2.0              199                     261                 0   \n",
            "7   2.1              199                     261                 0   \n",
            "8   3.0              199                     261                 0   \n",
            "9   3.1              199                     261                 0   \n",
            "\n",
            "   produced Machine A  failure Machine A  MTTF Machine A  \\\n",
            "0                   0                  0           77760   \n",
            "1                   0                  0           77760   \n",
            "2                   0                  0           77760   \n",
            "3                   0                  0           77760   \n",
            "4                   0                  0           77760   \n",
            "5                   0                  0           77760   \n",
            "6                   0                  0           77760   \n",
            "7                   0                  0           77760   \n",
            "8                   0                  0           77760   \n",
            "9                   0                  0           77760   \n",
            "\n",
            "   repair time Machine A  Machine A flag  input Machine B  ...  \\\n",
            "0                      0               0              200  ...   \n",
            "1                      0               0              200  ...   \n",
            "2                      0               0              200  ...   \n",
            "3                      0               0              200  ...   \n",
            "4                      0               0              199  ...   \n",
            "5                      0               0              199  ...   \n",
            "6                      0               0              199  ...   \n",
            "7                      0               0              199  ...   \n",
            "8                      0               0              199  ...   \n",
            "9                      0               0              199  ...   \n",
            "\n",
            "   repair time Machine B  Machine B flag  input Machine C  \\\n",
            "0                      0               0                0   \n",
            "1                      0               0                0   \n",
            "2                      0               0                0   \n",
            "3                      0               0                0   \n",
            "4                      0               0                0   \n",
            "5                      0               0                0   \n",
            "6                      0               0                0   \n",
            "7                      0               0                0   \n",
            "8                      0               0                0   \n",
            "9                      0               0                0   \n",
            "\n",
            "   time process Machine C  output Machine C  produced Machine C  \\\n",
            "0                       0                 0                   0   \n",
            "1                       0                 0                   0   \n",
            "2                       0                 0                   0   \n",
            "3                       0                 0                   0   \n",
            "4                       0                 0                   0   \n",
            "5                       0                 0                   0   \n",
            "6                       0                 0                   0   \n",
            "7                       0                 0                   0   \n",
            "8                       0                 0                   0   \n",
            "9                       0                 0                   0   \n",
            "\n",
            "   failure Machine C  MTTF Machine C  repair time Machine C  Machine C flag  \n",
            "0                  0          100800                      0               0  \n",
            "1                  0          100800                      0               0  \n",
            "2                  0          100800                      0               0  \n",
            "3                  0          100800                      0               0  \n",
            "4                  0          100800                      0               0  \n",
            "5                  0          100800                      0               0  \n",
            "6                  0          100800                      0               0  \n",
            "7                  0          100800                      0               0  \n",
            "8                  0          100800                      0               0  \n",
            "9                  0          100800                      0               0  \n",
            "\n",
            "[10 rows x 25 columns]\n",
            "\n",
            "\n",
            "step                      float64\n",
            "input Machine A             int64\n",
            "time process Machine A      int64\n",
            "output Machine A            int64\n",
            "produced Machine A          int64\n",
            "failure Machine A           int64\n",
            "MTTF Machine A              int64\n",
            "repair time Machine A       int64\n",
            "Machine A flag              int64\n",
            "input Machine B             int64\n",
            "time process Machine B      int64\n",
            "output Machine B            int64\n",
            "produced Machine B          int64\n",
            "failure Machine B           int64\n",
            "MTTF Machine B              int64\n",
            "repair time Machine B       int64\n",
            "Machine B flag              int64\n",
            "input Machine C             int64\n",
            "time process Machine C      int64\n",
            "output Machine C            int64\n",
            "produced Machine C          int64\n",
            "failure Machine C           int64\n",
            "MTTF Machine C              int64\n",
            "repair time Machine C       int64\n",
            "Machine C flag              int64\n",
            "dtype: object\n",
            "\n",
            "\n",
            "Index(['step', 'input Machine A', 'time process Machine A', 'output Machine A',\n",
            "       'produced Machine A', 'failure Machine A', 'MTTF Machine A',\n",
            "       'repair time Machine A', 'Machine A flag', 'input Machine B',\n",
            "       'time process Machine B', 'output Machine B', 'produced Machine B',\n",
            "       'failure Machine B', 'MTTF Machine B', 'repair time Machine B',\n",
            "       'Machine B flag', 'input Machine C', 'time process Machine C',\n",
            "       'output Machine C', 'produced Machine C', 'failure Machine C',\n",
            "       'MTTF Machine C', 'repair time Machine C', 'Machine C flag'],\n",
            "      dtype='object')\n"
          ]
        }
      ],
      "source": [
        "# Preparing the data set\n",
        "# Getting the dataframe from the file\n",
        "data = pandas.read_csv(CSV_FILE_PATH, delimiter=',')\n",
        "\n",
        "# Displaying the head and other dataset characteristics\n",
        "print('Run ', CSV_PATH.split('/')[8])\n",
        "print('\\n')\n",
        "print(data.head(10))\n",
        "print('\\n')\n",
        "print(data.dtypes)\n",
        "print('\\n')\n",
        "print(data.columns)\n"
      ]
    },
    {
      "cell_type": "markdown",
      "source": [
        "## Data cleaning and preparation\n",
        "Since the dataset is virtually generated, NaN or missing value are not present.\n",
        "\n",
        "Btw, some data preparation is computed. \n",
        "\n",
        "### Splitting the step column\n",
        "The step column has the form of \"step.moment\": this is not really the meaning of the step used by Simpy. Is instead a \"trick\" to make logs and debugging easier in the previous phase.\n",
        "\n",
        "So, for this phase, is more coherent to split this column into two different columns, namely \"step\" and \"moment\".\n",
        "\n",
        "---\n",
        "\n",
        "The split is performed in 3 steps: \n",
        "1. The \"step\" column is converted in type, from float to string. The result is saved in a new columns called \"step_str\" attached on the right to the initial dataframe. \n",
        "2. Using the str.split method, the \"step_str\" column is split into 2 columns at the \".\" (*point*). The resulting columns are saved into 2 columns called \"step\" and \"moment\". \n",
        "3. The no more necessary temporary column \"step_str\" is dropped.\n",
        "\n",
        "Finally, the columns are reordered keeping the new \"step\" and \"moment\" columns on the left of the dataset and converting them into int type. "
      ],
      "metadata": {
        "id": "eaLOprUPYe_9"
      }
    },
    {
      "cell_type": "code",
      "source": [
        "# Splitting the \"step\" column into \"step\" and \"moment\" in 3 steps:\n",
        "# 1. Converting the step col into string type\n",
        "data[\"step_str\"] = data[\"step\"].astype(str)\n",
        "# 2. Using str.split to split the col at the \".\"\n",
        "data[[\"step\", \"moment\"]] = data.step_str.str.split(\".\", expand = True)\n",
        "# 3. Dropping the temp col\n",
        "data.drop(columns=[\"step_str\"], inplace=True)\n",
        "\n",
        "# Reordering the result\n",
        "data = data[[\"step\", \"moment\", \"failure Machine A\", \"Machine A flag\", \n",
        "      \"failure Machine B\",  \"Machine B flag\", \"failure Machine C\", \n",
        "      \"Machine C flag\"]]\n",
        "\n",
        "# Converting everything in int \n",
        "data = data.astype(int)\n",
        "\n",
        "print(data)\n"
      ],
      "metadata": {
        "id": "-d1Ug0CA8jAA",
        "colab": {
          "base_uri": "https://localhost:8080/"
        },
        "outputId": "00032adb-99d6-4b29-ade5-1a2b93aa745b"
      },
      "execution_count": null,
      "outputs": [
        {
          "output_type": "stream",
          "name": "stdout",
          "text": [
            "            step  moment  failure Machine A  Machine A flag  \\\n",
            "0              0       0                  0               0   \n",
            "1              0       1                  0               0   \n",
            "2              1       0                  0               0   \n",
            "3              1       1                  0               0   \n",
            "4              1       5                  0               0   \n",
            "...          ...     ...                ...             ...   \n",
            "1250819  1036795       0                  0               0   \n",
            "1250820  1036796       0                  0               0   \n",
            "1250821  1036797       0                  0               0   \n",
            "1250822  1036798       0                  0               0   \n",
            "1250823  1036799       0                  0               0   \n",
            "\n",
            "         failure Machine B  Machine B flag  failure Machine C  Machine C flag  \n",
            "0                        0               0                  0               0  \n",
            "1                        0               0                  0               0  \n",
            "2                        0               0                  0               0  \n",
            "3                        0               0                  0               0  \n",
            "4                        0               0                  0               0  \n",
            "...                    ...             ...                ...             ...  \n",
            "1250819                  0               0                  0               0  \n",
            "1250820                  0               0                  0               0  \n",
            "1250821                  0               0                  0               0  \n",
            "1250822                  0               0                  0               0  \n",
            "1250823                  0               0                  0               0  \n",
            "\n",
            "[1250824 rows x 8 columns]\n"
          ]
        }
      ]
    },
    {
      "cell_type": "markdown",
      "source": [
        "## Dropping unnecessary columns for learning \n",
        "In the previous step, during the columns reordering, not all the columns of the initial dataset have been used. For that reason, the unused columns have been dropped. \n",
        "\n",
        "So, there are only 2 columns left to be dropped: \"step\" and \"moment\". \n",
        "\n",
        "They are not necessary since the Bayesian Network used are not time-dependent: they just analyse the datast line-to-line trying to understand relations between features, without taking into account the time. \n",
        "\n",
        "In the following, \"step\" and \"moment\" are dropped."
      ],
      "metadata": {
        "id": "tWxQjhAKahEv"
      }
    },
    {
      "cell_type": "code",
      "source": [
        "# Dropping the unneccessary columns\n",
        "data.drop(columns=[\"step\", \"moment\"], inplace=True)\n",
        "print(data)\n"
      ],
      "metadata": {
        "colab": {
          "base_uri": "https://localhost:8080/"
        },
        "id": "NHQYEOymRd7t",
        "outputId": "09103cd2-ec4b-4aaa-d867-5b3e3611f0a7"
      },
      "execution_count": null,
      "outputs": [
        {
          "output_type": "stream",
          "name": "stdout",
          "text": [
            "         failure Machine A  Machine A flag  failure Machine B  Machine B flag  \\\n",
            "0                        0               0                  0               0   \n",
            "1                        0               0                  0               0   \n",
            "2                        0               0                  0               0   \n",
            "3                        0               0                  0               0   \n",
            "4                        0               0                  0               0   \n",
            "...                    ...             ...                ...             ...   \n",
            "1250819                  0               0                  0               0   \n",
            "1250820                  0               0                  0               0   \n",
            "1250821                  0               0                  0               0   \n",
            "1250822                  0               0                  0               0   \n",
            "1250823                  0               0                  0               0   \n",
            "\n",
            "         failure Machine C  Machine C flag  \n",
            "0                        0               0  \n",
            "1                        0               0  \n",
            "2                        0               0  \n",
            "3                        0               0  \n",
            "4                        0               0  \n",
            "...                    ...             ...  \n",
            "1250819                  0               0  \n",
            "1250820                  0               0  \n",
            "1250821                  0               0  \n",
            "1250822                  0               0  \n",
            "1250823                  0               0  \n",
            "\n",
            "[1250824 rows x 6 columns]\n"
          ]
        }
      ]
    },
    {
      "cell_type": "markdown",
      "source": [
        "## Saving the cleaned dataset in a dedicated CSV file\n",
        "The processed dataset is now ready in order to be processed by CausalNex. \n",
        "\n",
        "Before launching the learning phase, the dataset is exported as a CSV file in the same file location of the initial dataset CSV. \n",
        "\n",
        "The file is called \"light-logs.csv\", because \"lighter\" with respect to the initial dataset. "
      ],
      "metadata": {
        "id": "ma7RPJBURQ_x"
      }
    },
    {
      "cell_type": "code",
      "source": [
        "# Saving the light dataset into csv\n",
        "data.to_csv(LIGHT_CSV_FILE_PATH)\n"
      ],
      "metadata": {
        "id": "aSbLiXfwpFEP"
      },
      "execution_count": null,
      "outputs": []
    },
    {
      "cell_type": "markdown",
      "source": [
        "## Data analysis \n",
        "Before the learning phase, data is analysed in order to understand the impact of the dataset structure on the causal-learning. \n",
        "\n",
        "The structure of the dataset, in fact, will let us understand in advance if some relationships will be caught or not. \n",
        "\n",
        "To do so, the following metrics will be computed: \n",
        "- fault_Machine x = 1 AND flag_Machine_x = 1 AND flag_Machine_C = 1\n",
        "- fault_Machine x = 1 AND flag_Machine_x = 1 AND flag_Machine_C = 0\n",
        "\n",
        "The ratio between those 2 metrics will let the user understand if the breakdown of an upstream machine (Machine A and B in the sim) has affected the downstream machine (Machine C in the sim). \n",
        "\n",
        "If the impact is high, the relation is likely to be caught. \n"
      ],
      "metadata": {
        "id": "ZTWRoxMISE1o"
      }
    },
    {
      "cell_type": "code",
      "source": [
        "# Loading the light dataset into csv\n",
        "data = pandas.read_csv(LIGHT_CSV_FILE_PATH, delimiter=',', index_col=0)\n",
        "data\n"
      ],
      "metadata": {
        "id": "vnBkDMri-J_X",
        "colab": {
          "base_uri": "https://localhost:8080/",
          "height": 424
        },
        "outputId": "a0129373-2679-4967-b7e2-57cc15a4b825"
      },
      "execution_count": null,
      "outputs": [
        {
          "output_type": "execute_result",
          "data": {
            "text/plain": [
              "         failure Machine A  Machine A flag  failure Machine B  Machine B flag  \\\n",
              "0                        0               0                  0               0   \n",
              "1                        0               0                  0               0   \n",
              "2                        0               0                  0               0   \n",
              "3                        0               0                  0               0   \n",
              "4                        0               0                  0               0   \n",
              "...                    ...             ...                ...             ...   \n",
              "1250819                  0               0                  0               0   \n",
              "1250820                  0               0                  0               0   \n",
              "1250821                  0               0                  0               0   \n",
              "1250822                  0               0                  0               0   \n",
              "1250823                  0               0                  0               0   \n",
              "\n",
              "         failure Machine C  Machine C flag  \n",
              "0                        0               0  \n",
              "1                        0               0  \n",
              "2                        0               0  \n",
              "3                        0               0  \n",
              "4                        0               0  \n",
              "...                    ...             ...  \n",
              "1250819                  0               0  \n",
              "1250820                  0               0  \n",
              "1250821                  0               0  \n",
              "1250822                  0               0  \n",
              "1250823                  0               0  \n",
              "\n",
              "[1250824 rows x 6 columns]"
            ],
            "text/html": [
              "\n",
              "  <div id=\"df-b2800949-6000-4b37-8254-e18dbb5f0ab0\">\n",
              "    <div class=\"colab-df-container\">\n",
              "      <div>\n",
              "<style scoped>\n",
              "    .dataframe tbody tr th:only-of-type {\n",
              "        vertical-align: middle;\n",
              "    }\n",
              "\n",
              "    .dataframe tbody tr th {\n",
              "        vertical-align: top;\n",
              "    }\n",
              "\n",
              "    .dataframe thead th {\n",
              "        text-align: right;\n",
              "    }\n",
              "</style>\n",
              "<table border=\"1\" class=\"dataframe\">\n",
              "  <thead>\n",
              "    <tr style=\"text-align: right;\">\n",
              "      <th></th>\n",
              "      <th>failure Machine A</th>\n",
              "      <th>Machine A flag</th>\n",
              "      <th>failure Machine B</th>\n",
              "      <th>Machine B flag</th>\n",
              "      <th>failure Machine C</th>\n",
              "      <th>Machine C flag</th>\n",
              "    </tr>\n",
              "  </thead>\n",
              "  <tbody>\n",
              "    <tr>\n",
              "      <th>0</th>\n",
              "      <td>0</td>\n",
              "      <td>0</td>\n",
              "      <td>0</td>\n",
              "      <td>0</td>\n",
              "      <td>0</td>\n",
              "      <td>0</td>\n",
              "    </tr>\n",
              "    <tr>\n",
              "      <th>1</th>\n",
              "      <td>0</td>\n",
              "      <td>0</td>\n",
              "      <td>0</td>\n",
              "      <td>0</td>\n",
              "      <td>0</td>\n",
              "      <td>0</td>\n",
              "    </tr>\n",
              "    <tr>\n",
              "      <th>2</th>\n",
              "      <td>0</td>\n",
              "      <td>0</td>\n",
              "      <td>0</td>\n",
              "      <td>0</td>\n",
              "      <td>0</td>\n",
              "      <td>0</td>\n",
              "    </tr>\n",
              "    <tr>\n",
              "      <th>3</th>\n",
              "      <td>0</td>\n",
              "      <td>0</td>\n",
              "      <td>0</td>\n",
              "      <td>0</td>\n",
              "      <td>0</td>\n",
              "      <td>0</td>\n",
              "    </tr>\n",
              "    <tr>\n",
              "      <th>4</th>\n",
              "      <td>0</td>\n",
              "      <td>0</td>\n",
              "      <td>0</td>\n",
              "      <td>0</td>\n",
              "      <td>0</td>\n",
              "      <td>0</td>\n",
              "    </tr>\n",
              "    <tr>\n",
              "      <th>...</th>\n",
              "      <td>...</td>\n",
              "      <td>...</td>\n",
              "      <td>...</td>\n",
              "      <td>...</td>\n",
              "      <td>...</td>\n",
              "      <td>...</td>\n",
              "    </tr>\n",
              "    <tr>\n",
              "      <th>1250819</th>\n",
              "      <td>0</td>\n",
              "      <td>0</td>\n",
              "      <td>0</td>\n",
              "      <td>0</td>\n",
              "      <td>0</td>\n",
              "      <td>0</td>\n",
              "    </tr>\n",
              "    <tr>\n",
              "      <th>1250820</th>\n",
              "      <td>0</td>\n",
              "      <td>0</td>\n",
              "      <td>0</td>\n",
              "      <td>0</td>\n",
              "      <td>0</td>\n",
              "      <td>0</td>\n",
              "    </tr>\n",
              "    <tr>\n",
              "      <th>1250821</th>\n",
              "      <td>0</td>\n",
              "      <td>0</td>\n",
              "      <td>0</td>\n",
              "      <td>0</td>\n",
              "      <td>0</td>\n",
              "      <td>0</td>\n",
              "    </tr>\n",
              "    <tr>\n",
              "      <th>1250822</th>\n",
              "      <td>0</td>\n",
              "      <td>0</td>\n",
              "      <td>0</td>\n",
              "      <td>0</td>\n",
              "      <td>0</td>\n",
              "      <td>0</td>\n",
              "    </tr>\n",
              "    <tr>\n",
              "      <th>1250823</th>\n",
              "      <td>0</td>\n",
              "      <td>0</td>\n",
              "      <td>0</td>\n",
              "      <td>0</td>\n",
              "      <td>0</td>\n",
              "      <td>0</td>\n",
              "    </tr>\n",
              "  </tbody>\n",
              "</table>\n",
              "<p>1250824 rows × 6 columns</p>\n",
              "</div>\n",
              "      <button class=\"colab-df-convert\" onclick=\"convertToInteractive('df-b2800949-6000-4b37-8254-e18dbb5f0ab0')\"\n",
              "              title=\"Convert this dataframe to an interactive table.\"\n",
              "              style=\"display:none;\">\n",
              "        \n",
              "  <svg xmlns=\"http://www.w3.org/2000/svg\" height=\"24px\"viewBox=\"0 0 24 24\"\n",
              "       width=\"24px\">\n",
              "    <path d=\"M0 0h24v24H0V0z\" fill=\"none\"/>\n",
              "    <path d=\"M18.56 5.44l.94 2.06.94-2.06 2.06-.94-2.06-.94-.94-2.06-.94 2.06-2.06.94zm-11 1L8.5 8.5l.94-2.06 2.06-.94-2.06-.94L8.5 2.5l-.94 2.06-2.06.94zm10 10l.94 2.06.94-2.06 2.06-.94-2.06-.94-.94-2.06-.94 2.06-2.06.94z\"/><path d=\"M17.41 7.96l-1.37-1.37c-.4-.4-.92-.59-1.43-.59-.52 0-1.04.2-1.43.59L10.3 9.45l-7.72 7.72c-.78.78-.78 2.05 0 2.83L4 21.41c.39.39.9.59 1.41.59.51 0 1.02-.2 1.41-.59l7.78-7.78 2.81-2.81c.8-.78.8-2.07 0-2.86zM5.41 20L4 18.59l7.72-7.72 1.47 1.35L5.41 20z\"/>\n",
              "  </svg>\n",
              "      </button>\n",
              "      \n",
              "  <style>\n",
              "    .colab-df-container {\n",
              "      display:flex;\n",
              "      flex-wrap:wrap;\n",
              "      gap: 12px;\n",
              "    }\n",
              "\n",
              "    .colab-df-convert {\n",
              "      background-color: #E8F0FE;\n",
              "      border: none;\n",
              "      border-radius: 50%;\n",
              "      cursor: pointer;\n",
              "      display: none;\n",
              "      fill: #1967D2;\n",
              "      height: 32px;\n",
              "      padding: 0 0 0 0;\n",
              "      width: 32px;\n",
              "    }\n",
              "\n",
              "    .colab-df-convert:hover {\n",
              "      background-color: #E2EBFA;\n",
              "      box-shadow: 0px 1px 2px rgba(60, 64, 67, 0.3), 0px 1px 3px 1px rgba(60, 64, 67, 0.15);\n",
              "      fill: #174EA6;\n",
              "    }\n",
              "\n",
              "    [theme=dark] .colab-df-convert {\n",
              "      background-color: #3B4455;\n",
              "      fill: #D2E3FC;\n",
              "    }\n",
              "\n",
              "    [theme=dark] .colab-df-convert:hover {\n",
              "      background-color: #434B5C;\n",
              "      box-shadow: 0px 1px 3px 1px rgba(0, 0, 0, 0.15);\n",
              "      filter: drop-shadow(0px 1px 2px rgba(0, 0, 0, 0.3));\n",
              "      fill: #FFFFFF;\n",
              "    }\n",
              "  </style>\n",
              "\n",
              "      <script>\n",
              "        const buttonEl =\n",
              "          document.querySelector('#df-b2800949-6000-4b37-8254-e18dbb5f0ab0 button.colab-df-convert');\n",
              "        buttonEl.style.display =\n",
              "          google.colab.kernel.accessAllowed ? 'block' : 'none';\n",
              "\n",
              "        async function convertToInteractive(key) {\n",
              "          const element = document.querySelector('#df-b2800949-6000-4b37-8254-e18dbb5f0ab0');\n",
              "          const dataTable =\n",
              "            await google.colab.kernel.invokeFunction('convertToInteractive',\n",
              "                                                     [key], {});\n",
              "          if (!dataTable) return;\n",
              "\n",
              "          const docLinkHtml = 'Like what you see? Visit the ' +\n",
              "            '<a target=\"_blank\" href=https://colab.research.google.com/notebooks/data_table.ipynb>data table notebook</a>'\n",
              "            + ' to learn more about interactive tables.';\n",
              "          element.innerHTML = '';\n",
              "          dataTable['output_type'] = 'display_data';\n",
              "          await google.colab.output.renderOutput(dataTable, element);\n",
              "          const docLink = document.createElement('div');\n",
              "          docLink.innerHTML = docLinkHtml;\n",
              "          element.appendChild(docLink);\n",
              "        }\n",
              "      </script>\n",
              "    </div>\n",
              "  </div>\n",
              "  "
            ]
          },
          "metadata": {},
          "execution_count": 14
        }
      ]
    },
    {
      "cell_type": "code",
      "source": [
        "# Machine A Ratio\n",
        "fault_A_flag = data[(data['failure Machine A'] == 1) & \n",
        "                    (data['Machine A flag'] == 1)].count()\n",
        "\n",
        "fault_A_flag_C_High = data[(data['failure Machine A'] == 1) & \n",
        "                           (data['Machine A flag'] == 1) & \n",
        "                           (data['Machine C flag'] == 1)].count()\n",
        "\n",
        "fault_A_flag_C_Low = data[(data['failure Machine A'] == 1) & \n",
        "                          (data['Machine A flag'] == 1) & \n",
        "                          (data['Machine C flag'] == 0)].count()\n",
        "\n",
        "ratio_A_high = fault_A_flag_C_High[0]/fault_A_flag[0]\n",
        "ratio_A_low = fault_A_flag_C_Low[0]/fault_A_flag[0]\n",
        "\n",
        "print('Ratio A High: ', ratio_A_high)\n",
        "print('Ratio A Low: ', ratio_A_low)\n"
      ],
      "metadata": {
        "colab": {
          "base_uri": "https://localhost:8080/"
        },
        "id": "WUBC7tVYUZjo",
        "outputId": "6aa0edd4-2f22-4211-fccd-ce7a770bcc9f"
      },
      "execution_count": null,
      "outputs": [
        {
          "output_type": "stream",
          "name": "stdout",
          "text": [
            "Ratio A High:  0.7561257500514548\n",
            "Ratio A Low:  0.24387424994854529\n"
          ]
        }
      ]
    },
    {
      "cell_type": "code",
      "source": [
        "# Machine B Ratio\n",
        "fault_B_flag = data[(data['failure Machine B'] == 1) & \n",
        "                    (data['Machine B flag'] == 1)].count()\n",
        "\n",
        "fault_B_flag_C_High = data[(data['failure Machine B'] == 1) & \n",
        "                           (data['Machine B flag'] == 1) & \n",
        "                           (data['Machine C flag'] == 1)].count()\n",
        "\n",
        "fault_B_flag_C_Low = data[(data['failure Machine B'] == 1) & \n",
        "                          (data['Machine B flag'] == 1) & \n",
        "                          (data['Machine C flag'] == 0)].count()\n",
        "\n",
        "ratio_B_high = fault_B_flag_C_High[0]/fault_B_flag[0]\n",
        "ratio_B_low = fault_B_flag_C_Low[0]/fault_B_flag[0]\n",
        "\n",
        "print('Ratio B High: ', ratio_B_high)\n",
        "print('Ratio B Low: ', ratio_B_low)\n"
      ],
      "metadata": {
        "colab": {
          "base_uri": "https://localhost:8080/"
        },
        "id": "2WgIaxPZY6lV",
        "outputId": "593c4605-2b08-45e3-b4c9-4a89fe434bf8"
      },
      "execution_count": null,
      "outputs": [
        {
          "output_type": "stream",
          "name": "stdout",
          "text": [
            "Ratio B High:  0.7205327031776944\n",
            "Ratio B Low:  0.2794672968223056\n"
          ]
        }
      ]
    },
    {
      "cell_type": "markdown",
      "source": [
        "## CausalNex application: applying the causal-network\n"
      ],
      "metadata": {
        "id": "tSJMy_pAR-DE"
      }
    },
    {
      "cell_type": "code",
      "source": [
        "# Eliminating spaces from column names - useful for later\n",
        "column_dict = {}\n",
        "for el in data.columns:\n",
        "  key = el\n",
        "  el = el.replace(' ', '_')\n",
        "  column_dict [key] = el\n",
        "\n",
        "data = data.rename(columns=column_dict)\n",
        "\n",
        "# Getting tabu child nodes\n",
        "tabu_child_list = [x for x in data.columns if 'failure' in x]\n",
        "\n",
        "print('Tabu child list: ', tabu_child_list)\n",
        "\n",
        "# Training the model\n",
        "# Declaring and mining the structure of the causal-net\n",
        "start_time = time.time()\n",
        "structure_model = from_pandas(data, tabu_child_nodes=tabu_child_list)\n",
        "finish_time = time.time()\n",
        "sim_time = finish_time - start_time\n",
        "\n",
        "# Printing the structure model with Python\n",
        "print(\"Total training time: {} min, {} secs\".format(round(sim_time/60, 0), \n",
        "                                                    round(sim_time%60, 0)))\n",
        "# print(\"Total training time: {} seconds\".format(round(sim_time, 2)/60))\n",
        "print(structure_model)\n"
      ],
      "metadata": {
        "id": "4sLr0Z9pmkvf",
        "colab": {
          "base_uri": "https://localhost:8080/"
        },
        "outputId": "283131b8-43ca-41da-de3f-6f82a3ad56cf"
      },
      "execution_count": null,
      "outputs": [
        {
          "output_type": "stream",
          "name": "stdout",
          "text": [
            "Tabu child list:  ['failure_Machine_A', 'failure_Machine_B', 'failure_Machine_C']\n",
            "Total training time: 1.0 min, 56.0 secs\n",
            "StructureModel with 6 nodes and 15 edges\n"
          ]
        }
      ]
    },
    {
      "cell_type": "code",
      "source": [
        "data.shape"
      ],
      "metadata": {
        "id": "SxjraST7GRj9"
      },
      "execution_count": null,
      "outputs": []
    },
    {
      "cell_type": "code",
      "source": [
        "# Printing the structure model with networkx\n",
        "networkx.draw(structure_model, with_labels=True)\n"
      ],
      "metadata": {
        "colab": {
          "base_uri": "https://localhost:8080/",
          "height": 319
        },
        "id": "N2qwPglboYKw",
        "outputId": "08f43ffb-d8ed-49fb-ac15-0026160f6316"
      },
      "execution_count": null,
      "outputs": [
        {
          "output_type": "display_data",
          "data": {
            "text/plain": [
              "<Figure size 432x288 with 1 Axes>"
            ],
            "image/png": "[encoded data removed]"
          },
          "metadata": {}
        }
      ]
    },
    {
      "cell_type": "code",
      "source": [
        "structure_model.remove_edges_below_threshold(0.1)\n",
        "print(structure_model)\n",
        "# Printing the structure model again\n",
        "networkx.draw(structure_model, with_labels=True)\n"
      ],
      "metadata": {
        "id": "yWlktXteDH7S",
        "colab": {
          "base_uri": "https://localhost:8080/",
          "height": 336
        },
        "outputId": "35798ff2-942f-42e8-f680-5eae988ec2f5"
      },
      "execution_count": null,
      "outputs": [
        {
          "output_type": "stream",
          "name": "stdout",
          "text": [
            "StructureModel with 6 nodes and 6 edges\n"
          ]
        },
        {
          "output_type": "display_data",
          "data": {
            "text/plain": [
              "<Figure size 432x288 with 1 Axes>"
            ],
            "image/png": "[encoded data removed]"
          },
          "metadata": {}
        }
      ]
    },
    {
      "cell_type": "code",
      "source": [
        "structure_model.remove_edges_below_threshold(0.2)\n",
        "print(structure_model)\n",
        "# Printing the structure model again\n",
        "networkx.draw(structure_model, with_labels=True)\n"
      ],
      "metadata": {
        "id": "s_iO3mnRIXid",
        "colab": {
          "base_uri": "https://localhost:8080/",
          "height": 336
        },
        "outputId": "7c12da81-9cea-458e-b62a-b8f0ddd05f4b"
      },
      "execution_count": null,
      "outputs": [
        {
          "output_type": "stream",
          "name": "stdout",
          "text": [
            "StructureModel with 6 nodes and 5 edges\n"
          ]
        },
        {
          "output_type": "display_data",
          "data": {
            "text/plain": [
              "<Figure size 432x288 with 1 Axes>"
            ],
            "image/png": "[encoded data removed]"
          },
          "metadata": {}
        }
      ]
    },
    {
      "cell_type": "code",
      "source": [
        "structure_model.remove_edges_below_threshold(0.3)\n",
        "print(structure_model)\n",
        "# Printing the structure model again\n",
        "networkx.draw(structure_model, with_labels=True)\n"
      ],
      "metadata": {
        "colab": {
          "base_uri": "https://localhost:8080/",
          "height": 336
        },
        "id": "5BNerdjwIZU4",
        "outputId": "e2d0faa7-9351-4ef1-e5b3-1d249f9c6852"
      },
      "execution_count": null,
      "outputs": [
        {
          "output_type": "stream",
          "name": "stdout",
          "text": [
            "StructureModel with 6 nodes and 5 edges\n"
          ]
        },
        {
          "output_type": "display_data",
          "data": {
            "text/plain": [
              "<Figure size 432x288 with 1 Axes>"
            ],
            "image/png": "[encoded data removed]"
          },
          "metadata": {}
        }
      ]
    },
    {
      "cell_type": "code",
      "source": [
        "# Exporting the model at the best threshold (as said in the NOTEARS arxiv paper)\n",
        "networkx.drawing.nx_pydot.write_dot(structure_model, CSV_PATH + '/graph.dot')"
      ],
      "metadata": {
        "id": "JIQ6BESQosOI"
      },
      "execution_count": null,
      "outputs": []
    },
    {
      "cell_type": "code",
      "source": [
        "structure_model.remove_edges_below_threshold(0.4)\n",
        "print(structure_model)\n",
        "# Printing the structure model again\n",
        "networkx.draw(structure_model, with_labels=True)"
      ],
      "metadata": {
        "id": "l_c20h66IaoV"
      },
      "execution_count": null,
      "outputs": []
    },
    {
      "cell_type": "code",
      "source": [
        "structure_model.remove_edges_below_threshold(0.5)\n",
        "print(structure_model)\n",
        "# Printing the structure model again\n",
        "networkx.draw(structure_model, with_labels=True)"
      ],
      "metadata": {
        "id": "GlTkvLyoIcSC"
      },
      "execution_count": null,
      "outputs": []
    },
    {
      "cell_type": "code",
      "source": [
        "structure_model.remove_edges_below_threshold(0.6)\n",
        "print(structure_model)\n",
        "# Printing the structure model again\n",
        "networkx.draw(structure_model, with_labels=True)"
      ],
      "metadata": {
        "id": "pZfJsG-DIexq"
      },
      "execution_count": null,
      "outputs": []
    },
    {
      "cell_type": "code",
      "source": [
        "structure_model.remove_edges_below_threshold(0.7)\n",
        "print(structure_model)\n",
        "# Printing the structure model again\n",
        "networkx.draw(structure_model, with_labels=True)"
      ],
      "metadata": {
        "id": "eEUjobccIgEv"
      },
      "execution_count": null,
      "outputs": []
    },
    {
      "cell_type": "code",
      "source": [
        "structure_model.remove_edges_below_threshold(0.8)\n",
        "print(structure_model)\n",
        "# Printing the structure model again\n",
        "networkx.draw(structure_model, with_labels=True)"
      ],
      "metadata": {
        "id": "1AWh7Ft_IhHc"
      },
      "execution_count": null,
      "outputs": []
    },
    {
      "cell_type": "code",
      "source": [
        "structure_model.remove_edges_below_threshold(0.9)\n",
        "print(structure_model)\n",
        "# Printing the structure model again\n",
        "networkx.draw(structure_model, with_labels=True)"
      ],
      "metadata": {
        "id": "hHS90t3eIiwt"
      },
      "execution_count": null,
      "outputs": []
    },
    {
      "cell_type": "code",
      "source": [
        "# Getting weights of the generated model in Python dict structure\n",
        "edges_weights_dict = networkx.to_dict_of_dicts(structure_model)\n",
        "\n",
        "# Saving the weights of the generated model\n",
        "with open(CSV_PATH + '/edges-weights.txt', 'a') as f:\n",
        "  for k1 in edges_weights_dict:\n",
        "    for k2 in edges_weights_dict[k1]:\n",
        "      text = k1 + ' -> ' + k2 + ': ' \\\n",
        "            + str(edges_weights_dict[k1][k2].get('weight'))\n",
        "    f.write(text)\n",
        "  f.close()\n"
      ],
      "metadata": {
        "id": "_Fh0XpKKBMR1"
      },
      "execution_count": null,
      "outputs": []
    },
    {
      "cell_type": "code",
      "source": [
        "# Bayesian network instantiation\n",
        "from causalnex.network import BayesianNetwork\n",
        "\n",
        "bayesian_net = BayesianNetwork(structure_model)\n"
      ],
      "metadata": {
        "id": "31pP03ki6EFJ",
        "colab": {
          "base_uri": "https://localhost:8080/"
        },
        "outputId": "e40e79bb-76ee-4124-94c5-afb2bf8cfb8e"
      },
      "execution_count": null,
      "outputs": [
        {
          "output_type": "stream",
          "name": "stderr",
          "text": [
            "/usr/local/lib/python3.7/dist-packages/statsmodels/tools/_testing.py:19: FutureWarning: pandas.util.testing is deprecated. Use the functions in the public API at pandas.testing instead.\n",
            "  import pandas.util.testing as tm\n",
            "/usr/local/lib/python3.7/dist-packages/pgmpy/models/BayesianModel.py:10: FutureWarning: BayesianModel has been renamed to BayesianNetwork. Please use BayesianNetwork class, BayesianModel will be removed in future.\n",
            "  FutureWarning,\n"
          ]
        }
      ]
    },
    {
      "cell_type": "code",
      "source": [
        "from sklearn.model_selection import train_test_split\n",
        "\n",
        "# Split 90% train and 10% test\n",
        "training_data = data.copy()\n",
        "train, test = train_test_split(training_data, train_size=0.9, test_size=0.1, \n",
        "                               random_state=7)\n",
        "\n",
        "# Fitting node states into the Bayesian Network: here they are inferred from the \n",
        "# input data, but sometimes is necessary to provide a dictionary for them to be \n",
        "# assigned\n",
        "bayesian_net = bayesian_net.fit_node_states(training_data)\n",
        "\n",
        "# Fitting the data into the prepared net\n",
        "bayesian_net = bayesian_net.fit_cpds(train, method=\"BayesianEstimator\", \n",
        "                                     bayes_prior=\"K2\")\n",
        "\n",
        "bayesian_net.cpds\n"
      ],
      "metadata": {
        "id": "tagZPOgMygNe",
        "colab": {
          "base_uri": "https://localhost:8080/"
        },
        "outputId": "0cb7ca2d-ea00-4a8b-e613-88081d392766"
      },
      "execution_count": null,
      "outputs": [
        {
          "output_type": "execute_result",
          "data": {
            "text/plain": [
              "{'Machine_A_flag': failure_Machine_A         0        1\n",
              " Machine_A_flag                      \n",
              " 0                  0.997391  0.02823\n",
              " 1                  0.002609  0.97177,\n",
              " 'Machine_B_flag': failure_Machine_B         0         1\n",
              " Machine_B_flag                       \n",
              " 0                  0.997899  0.033125\n",
              " 1                  0.002101  0.966875,\n",
              " 'Machine_C_flag': Machine_A_flag           0                                  1            \\\n",
              " Machine_B_flag           0                   1              0             \n",
              " failure_Machine_C        0         1         0    1         0         1   \n",
              " Machine_C_flag                                                            \n",
              " 0                  0.99628  0.170774  0.406209  0.5  0.337589  0.201853   \n",
              " 1                  0.00372  0.829226  0.593791  0.5  0.662411  0.798147   \n",
              " \n",
              " Machine_A_flag                    \n",
              " Machine_B_flag            1       \n",
              " failure_Machine_C         0    1  \n",
              " Machine_C_flag                    \n",
              " 0                  0.000021  0.5  \n",
              " 1                  0.999979  0.5  ,\n",
              " 'failure_Machine_A':                            \n",
              " failure_Machine_A          \n",
              " 0                  0.843992\n",
              " 1                  0.156008,\n",
              " 'failure_Machine_B':                            \n",
              " failure_Machine_B          \n",
              " 0                  0.860742\n",
              " 1                  0.139258,\n",
              " 'failure_Machine_C':                            \n",
              " failure_Machine_C          \n",
              " 0                  0.985112\n",
              " 1                  0.014888}"
            ]
          },
          "metadata": {},
          "execution_count": 28
        }
      ]
    },
    {
      "cell_type": "code",
      "source": [
        "from causalnex.evaluation import classification_report, roc_auc\n",
        "\n",
        "# Model quality evaluation for failure Machine A\n",
        "classification_report(bayesian_net, test, \"failure_Machine_C\")\n",
        "\n",
        "# ROC, AUC curve computation for failure Machine A\n",
        "roc, auc = roc_auc(bayesian_net, test, \"failure_Machine_C\")\n",
        "print('Failure Machine A failure Node ROC: ', roc)\n",
        "print('Failure Machine A failure Node AUC: ', auc)\n",
        "\n",
        "# Model quality evaluation for Machine A flag\n",
        "classification_report(bayesian_net, test, \"failure_Machine_C\")\n",
        "\n",
        "# ROC, AUC curve computation for Machine A flag\n",
        "roc, auc = roc_auc(bayesian_net, test, \"failure_Machine_C\")\n",
        "print('Failure Machine A flag Node ROC: ', roc)\n",
        "print('Failure Machine A flag Node AUC: ', auc)\n",
        "\n",
        "# Model quality evaluation for failure Machine B\n",
        "classification_report(bayesian_net, test, \"failure_Machine_C\")\n",
        "\n",
        "# ROC, AUC curve computation for failure Machine B\n",
        "roc, auc = roc_auc(bayesian_net, test, \"failure_Machine_C\")\n",
        "print('Failure Machine B failure Node ROC: ', roc)\n",
        "print('Failure Machine B failure Node AUC: ', auc)\n",
        "\n",
        "# Model quality evaluation for Machine B flag\n",
        "classification_report(bayesian_net, test, \"failure_Machine_C\")\n",
        "\n",
        "# ROC, AUC curve computation for Machine B flag\n",
        "roc, auc = roc_auc(bayesian_net, test, \"failure_Machine_C\")\n",
        "print('Failure Machine B flag Node ROC: ', roc)\n",
        "print('Failure Machine B flag Node AUC: ', auc)\n",
        "\n",
        "# Model quality evaluation for failure Machine C\n",
        "classification_report(bayesian_net, test, \"failure_Machine_C\")\n",
        "\n",
        "# ROC, AUC curve computation for failure Machine C\n",
        "roc, auc = roc_auc(bayesian_net, test, \"failure_Machine_C\")\n",
        "print('Failure Machine C failure node Node ROC: ', roc)\n",
        "print('Failure Machine C failure node Node AUC: ', auc)\n",
        "\n",
        "# Model quality evaluation for Machine C flag\n",
        "classification_report(bayesian_net, test, \"failure_Machine_C\")\n",
        "\n",
        "# ROC, AUC curve computation for Machine C flag\n",
        "roc, auc = roc_auc(bayesian_net, test, \"failure_Machine_C\")\n",
        "print('Failure Machine C flag Node ROC: ', roc)\n",
        "print('Failure Machine C flag Node AUC: ', auc)\n"
      ],
      "metadata": {
        "id": "8l_7Vgtg8iJi"
      },
      "execution_count": null,
      "outputs": []
    },
    {
      "cell_type": "code",
      "source": [
        "# Fitting with the whole dataset\n",
        "bayesian_net = bayesian_net.fit_cpds(data, method=\"BayesianEstimator\", bayes_prior=\"K2\")\n"
      ],
      "metadata": {
        "id": "laBaw7vqFMu6"
      },
      "execution_count": null,
      "outputs": []
    },
    {
      "cell_type": "code",
      "source": [
        "from causalnex.inference import InferenceEngine\n",
        "\n",
        "ie = InferenceEngine(bayesian_net)\n",
        "marginals = ie.query()\n",
        "marginals[\"Machine_C_flag\"]\n"
      ],
      "metadata": {
        "colab": {
          "base_uri": "https://localhost:8080/"
        },
        "id": "XOyh9AwNG_kN",
        "outputId": "731262e9-93e7-4e83-eb04-1456d0889acc"
      },
      "execution_count": null,
      "outputs": [
        {
          "output_type": "execute_result",
          "data": {
            "text/plain": [
              "{0: 0.8108503544079303, 1: 0.18914964559206984}"
            ]
          },
          "metadata": {},
          "execution_count": 30
        }
      ]
    },
    {
      "cell_type": "code",
      "source": [
        "# Do calculus - Failure A vs Flag A\n",
        "print('distribution before do failure A', ie.query()['Machine_A_flag'])\n",
        "ie.do_intervention('failure_Machine_A', {1: 1.0, 0: 0.0})\n",
        "print('distribution after do failure A', ie.query()['Machine_A_flag'])\n",
        "ie.reset_do('failure_Machine_A')\n",
        "print('\\n')\n",
        "\n",
        "# Do calculus - Failure B vs Flag B\n",
        "print('distribution before do failure B', ie.query()['Machine_B_flag'])\n",
        "ie.do_intervention('failure_Machine_B', {1: 1.0, 0: 0.0})\n",
        "print('distribution after do failure B', ie.query()['Machine_B_flag'])\n",
        "ie.reset_do('failure_Machine_B')\n",
        "print('\\n')\n",
        "\n",
        "# Do calculus - Failure C vs Flag C\n",
        "print('distribution before do failure C', ie.query()['Machine_C_flag'])\n",
        "ie.do_intervention('failure_Machine_C', {1: 1.0, 0: 0.0})\n",
        "print('distribution after do failure C', ie.query()['Machine_C_flag'])\n",
        "ie.reset_do('failure_Machine_C')\n",
        "print('\\n')\n"
      ],
      "metadata": {
        "id": "sk02e0YSSCQm",
        "colab": {
          "base_uri": "https://localhost:8080/"
        },
        "outputId": "e07f3b47-8a3e-474d-b8bc-8d1ff05008a0"
      },
      "execution_count": null,
      "outputs": [
        {
          "output_type": "stream",
          "name": "stdout",
          "text": [
            "distribution before do failure A {0: 0.8463463137936038, 1: 0.1536536862063965}\n",
            "distribution after do failure A {0: 0.02826666666666667, 1: 0.9717333333333336}\n",
            "\n",
            "\n",
            "distribution before do failure B {0: 0.8635437456189338, 1: 0.13645625438106643}\n",
            "distribution after do failure B {0: 0.032940595537488085, 1: 0.9670594044625119}\n",
            "\n",
            "\n",
            "distribution before do failure C {0: 0.8108503544079303, 1: 0.1891496455920699}\n",
            "distribution after do failure C {0: 0.21969877169946384, 1: 0.7803012283005362}\n",
            "\n",
            "\n"
          ]
        }
      ]
    },
    {
      "cell_type": "code",
      "source": [
        "# Do calculus - Failure A vs Flag C\n",
        "print('distribution before do failure A on flag C', ie.query()['Machine_C_flag'])\n",
        "ie.do_intervention('failure_Machine_A', {1: 1.0, 0: 0.0})\n",
        "print('distribution after do failure A on flag C', ie.query()['Machine_C_flag'])\n",
        "ie.reset_do('failure_Machine_A')\n",
        "print('\\n')\n",
        "\n",
        "# Do calculus - Failure B vs Flag C\n",
        "print('distribution before do failure B on flag C', ie.query()['Machine_C_flag'])\n",
        "ie.do_intervention('failure_Machine_B', {1: 1.0, 0: 0.0})\n",
        "print('distribution after do failure B on flag C', ie.query()['Machine_C_flag'])\n",
        "ie.reset_do('failure_Machine_B')\n",
        "print('\\n')\n"
      ],
      "metadata": {
        "id": "8-sA5yj3VTlg",
        "colab": {
          "base_uri": "https://localhost:8080/"
        },
        "outputId": "2762f16f-5b3b-4c5f-bebe-f9bab9a23074"
      },
      "execution_count": null,
      "outputs": [
        {
          "output_type": "stream",
          "name": "stdout",
          "text": [
            "distribution before do failure A on flag C {0: 0.8108503544079303, 1: 0.1891496455920699}\n",
            "distribution after do failure A on flag C {0: 0.3085287894719985, 1: 0.6914712105280016}\n",
            "\n",
            "\n",
            "distribution before do failure B on flag C {0: 0.8108503544079303, 1: 0.1891496455920699}\n",
            "distribution after do failure B on flag C {0: 0.3629828789797622, 1: 0.6370171210202378}\n",
            "\n",
            "\n"
          ]
        }
      ]
    },
    {
      "cell_type": "code",
      "source": [
        "# Do calculus - Flag A vs Flag C\n",
        "print('distribution before do flag A on flag C', ie.query()['Machine_C_flag'])\n",
        "ie.do_intervention('Machine_A_flag', {1: 1.0, 0: 0.0})\n",
        "print('distribution after do flag A on flag C', ie.query()['Machine_C_flag'])\n",
        "ie.reset_do('Machine_A_flag')\n",
        "print('\\n')\n",
        "\n",
        "# Do calculus - Flag B vs Flag C\n",
        "print('distribution before do flag B on flag C', ie.query()['Machine_C_flag'])\n",
        "ie.do_intervention('Machine_B_flag', {1: 1.0, 0: 0.0})\n",
        "print('distribution after do flag B on flag C', ie.query()['Machine_C_flag'])\n",
        "ie.reset_do('Machine_B_flag')\n",
        "print('\\n')"
      ],
      "metadata": {
        "colab": {
          "base_uri": "https://localhost:8080/"
        },
        "id": "XNSWQGLBJRGy",
        "outputId": "450853ca-d5c2-491c-cb3a-e3025443a26a"
      },
      "execution_count": null,
      "outputs": [
        {
          "output_type": "stream",
          "name": "stdout",
          "text": [
            "distribution before do flag A on flag C {0: 0.8108503544079303, 1: 0.1891496455920699}\n",
            "distribution after do flag A on flag C {0: 0.29117234222949767, 1: 0.7088276577705025}\n",
            "\n",
            "\n",
            "distribution before do flag B on flag C {0: 0.8108503544079303, 1: 0.1891496455920699}\n",
            "distribution after do flag B on flag C {0: 0.3452210617256036, 1: 0.6547789382743965}\n",
            "\n",
            "\n"
          ]
        }
      ]
    },
    {
      "cell_type": "code",
      "source": [
        ""
      ],
      "metadata": {
        "id": "bNggPUafJuOk"
      },
      "execution_count": null,
      "outputs": []
    }
  ]
}